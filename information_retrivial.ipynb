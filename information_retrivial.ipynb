{
 "cells": [
  {
   "attachments": {},
   "cell_type": "markdown",
   "metadata": {},
   "source": [
    "# First implementation ir"
   ]
  },
  {
   "cell_type": "code",
   "execution_count": 1,
   "metadata": {},
   "outputs": [],
   "source": [
    "from src import loader\n",
    "\n",
    "%load_ext autoreload\n",
    "%autoreload 2"
   ]
  },
  {
   "cell_type": "code",
   "execution_count": 2,
   "metadata": {},
   "outputs": [
    {
     "name": "stdout",
     "output_type": "stream",
     "text": [
      "Loading dataset... if you don't have it, it will be downloaded from Zenodo. This could take up to 15 minutes depending on your internet connection.\n",
      "Dataset loaded!\n"
     ]
    }
   ],
   "source": [
    "corpus = loader.Corpus()"
   ]
  },
  {
   "cell_type": "code",
   "execution_count": 16,
   "metadata": {},
   "outputs": [
    {
     "data": {
      "text/plain": [
       "'there are about 130 233 teips though some sources state that there may be as many as 300 more than 20 teips originated from newcomers in particular avars kumyks jews georgians russians turks ukrainians the taips descending of non ingush or non chechen ancestors are called impure teips in other languages s li taypa a teip s internal dynamic is based on honor and blood feuds play a major role the teip membership and the tukkhum membership defined the social position of a chechen the lack of any affiliation of a person can be described as this man has neither a teip nor a tukkhum common teip rules and some features below is a list of teips with the tukkhum to which it belongs a short description relation to the russian chechen conflict and notable members an ancient highland teip often called the naive teip for its members being too generous and warmhearted the members of this teip have never really been on a particular side pro russian or independist but always stayed on the side which favors the chechen nation chanti chonti from kalmyk language means a place where wolves are present historically if non chechen minorities living in'"
      ]
     },
     "execution_count": 16,
     "metadata": {},
     "output_type": "execute_result"
    }
   ],
   "source": [
    "corpus.get_doc(123456)"
   ]
  },
  {
   "cell_type": "code",
   "execution_count": 19,
   "metadata": {},
   "outputs": [],
   "source": [
    "l = corpus.get_corpus()\n"
   ]
  },
  {
   "cell_type": "code",
   "execution_count": 5,
   "metadata": {},
   "outputs": [
    {
     "data": {
      "text/plain": [
       "['lincoln',\n",
       " 'led',\n",
       " 'the',\n",
       " 'nation',\n",
       " 'through',\n",
       " 'the',\n",
       " 'american',\n",
       " 'civil',\n",
       " 'war',\n",
       " 'its',\n",
       " 'bloodiest',\n",
       " 'war',\n",
       " 'and',\n",
       " 'its',\n",
       " 'greatest',\n",
       " 'moral',\n",
       " 'constitutional',\n",
       " 'and',\n",
       " 'political',\n",
       " 'crisis',\n",
       " 'he',\n",
       " 'preserved',\n",
       " 'the',\n",
       " 'union',\n",
       " 'abolished',\n",
       " 'slavery',\n",
       " 'strengthened',\n",
       " 'the',\n",
       " 'federal',\n",
       " 'government',\n",
       " 'and',\n",
       " 'modernized',\n",
       " 'the',\n",
       " 'u',\n",
       " 's',\n",
       " 'economy',\n",
       " 'born',\n",
       " 'in',\n",
       " 'kentucky',\n",
       " 'lincoln',\n",
       " 'grew',\n",
       " 'up',\n",
       " 'on',\n",
       " 'the',\n",
       " 'frontier',\n",
       " 'in',\n",
       " 'a',\n",
       " 'poor',\n",
       " 'family',\n",
       " 'self',\n",
       " 'educated',\n",
       " 'he',\n",
       " 'became',\n",
       " 'a',\n",
       " 'lawyer',\n",
       " 'whig',\n",
       " 'party',\n",
       " 'leader',\n",
       " 'illinois',\n",
       " 'state',\n",
       " 'legislator',\n",
       " 'and',\n",
       " 'congressman',\n",
       " 'in',\n",
       " '1849',\n",
       " 'he',\n",
       " 'left',\n",
       " 'government',\n",
       " 'to',\n",
       " 'resume',\n",
       " 'his',\n",
       " 'law',\n",
       " 'practice',\n",
       " 'but',\n",
       " 'angered',\n",
       " 'by',\n",
       " 'the',\n",
       " 'success',\n",
       " 'of',\n",
       " 'democrats',\n",
       " 'in',\n",
       " 'opening',\n",
       " 'the',\n",
       " 'prairie',\n",
       " 'lands',\n",
       " 'to',\n",
       " 'slavery',\n",
       " 'reentered',\n",
       " 'politics',\n",
       " 'in',\n",
       " '1854',\n",
       " 'he',\n",
       " 'became',\n",
       " 'a',\n",
       " 'leader',\n",
       " 'in',\n",
       " 'the',\n",
       " 'new',\n",
       " 'republican',\n",
       " 'party',\n",
       " 'and',\n",
       " 'gained',\n",
       " 'national',\n",
       " 'attention',\n",
       " 'in',\n",
       " '1858',\n",
       " 'for',\n",
       " 'debating',\n",
       " 'national',\n",
       " 'democratic',\n",
       " 'leader',\n",
       " 'stephen',\n",
       " 'a',\n",
       " 'douglas',\n",
       " 'in',\n",
       " 'the',\n",
       " '1858',\n",
       " 'illinois',\n",
       " 'senate',\n",
       " 'campaign',\n",
       " 'he',\n",
       " 'then',\n",
       " 'ran',\n",
       " 'for',\n",
       " 'president',\n",
       " 'in',\n",
       " '1860',\n",
       " 'sweeping',\n",
       " 'the',\n",
       " 'north',\n",
       " 'and',\n",
       " 'winning',\n",
       " 'southern',\n",
       " 'pro',\n",
       " 'slavery',\n",
       " 'elements',\n",
       " 'took',\n",
       " 'his',\n",
       " 'win',\n",
       " 'as',\n",
       " 'proof',\n",
       " 'that',\n",
       " 'the',\n",
       " 'north',\n",
       " 'was',\n",
       " 'rejecting',\n",
       " 'the',\n",
       " 'constitutional',\n",
       " 'rights',\n",
       " 'of',\n",
       " 'southern',\n",
       " 'states',\n",
       " 'to',\n",
       " 'practice',\n",
       " 'slavery',\n",
       " 'they',\n",
       " 'began',\n",
       " 'the',\n",
       " 'process',\n",
       " 'of',\n",
       " 'seceding',\n",
       " 'from',\n",
       " 'the',\n",
       " 'union',\n",
       " 'to',\n",
       " 'secure',\n",
       " 'its',\n",
       " 'independence',\n",
       " 'the',\n",
       " 'new',\n",
       " 'confederate',\n",
       " 'states',\n",
       " 'of',\n",
       " 'america',\n",
       " 'fired',\n",
       " 'on',\n",
       " 'fort',\n",
       " 'sumter',\n",
       " 'one',\n",
       " 'of',\n",
       " 'the',\n",
       " 'few',\n",
       " 'u',\n",
       " 's',\n",
       " 'forts',\n",
       " 'in',\n",
       " 'the',\n",
       " 'south',\n",
       " 'lincoln',\n",
       " 'called',\n",
       " 'up',\n",
       " 'volunteers',\n",
       " 'and',\n",
       " 'militia',\n",
       " 'to',\n",
       " 'suppress',\n",
       " 'the',\n",
       " 'rebellion',\n",
       " 'and',\n",
       " 'restore']"
      ]
     },
     "execution_count": 5,
     "metadata": {},
     "output_type": "execute_result"
    }
   ],
   "source": [
    "corpus.tokenize_doc(6)"
   ]
  }
 ],
 "metadata": {
  "kernelspec": {
   "display_name": "ir_viz",
   "language": "python",
   "name": "python3"
  },
  "language_info": {
   "codemirror_mode": {
    "name": "ipython",
    "version": 3
   },
   "file_extension": ".py",
   "mimetype": "text/x-python",
   "name": "python",
   "nbconvert_exporter": "python",
   "pygments_lexer": "ipython3",
   "version": "3.9.13 (main, Oct 13 2022, 21:15:33) \n[GCC 11.2.0]"
  },
  "orig_nbformat": 4,
  "vscode": {
   "interpreter": {
    "hash": "b3cc5f5b05e46bdfc9e9761ae8d2ef1ed155c83b407b3a1475c0d7c166308822"
   }
  }
 },
 "nbformat": 4,
 "nbformat_minor": 2
}
