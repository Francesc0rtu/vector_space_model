{
 "cells": [
  {
   "attachments": {},
   "cell_type": "markdown",
   "metadata": {},
   "source": [
    "# Vector space models"
   ]
  },
  {
   "attachments": {},
   "cell_type": "markdown",
   "metadata": {},
   "source": [
    "This notebook is produced for the final project of the course \"Information Retrieval\" at the University of Trieste. The goal of this project is to implement a vector space model for information retrieval. The notebook is structured as follows:\n",
    "- [1. Overview](#1.-Overview): A simple tour of the IR system using python scripts\n",
    "- [2. Implementation](#2.-Implementation): A detailed description of the implementation of the IR system\n",
    "- [3. Evaluation](#3.-Evaluation): A description of the evaluation of the IR system."
   ]
  },
  {
   "attachments": {},
   "cell_type": "markdown",
   "metadata": {},
   "source": [
    "## Overview"
   ]
  },
  {
   "attachments": {},
   "cell_type": "markdown",
   "metadata": {},
   "source": [
    "Fristly, we need to import the scripts from the `src` folder:"
   ]
  },
  {
   "cell_type": "code",
   "execution_count": 1,
   "metadata": {},
   "outputs": [],
   "source": [
    "from src.ir_system import IRSystem\n",
    "\n",
    "%load_ext autoreload\n",
    "%autoreload 2"
   ]
  },
  {
   "attachments": {},
   "cell_type": "markdown",
   "metadata": {},
   "source": [
    "Then we create an instance of the `IRSystem` class, choosing the dataset to use:\n",
    "- `dataset`: the dataset to use. It can be either `time` or `reuters`\n",
    "  \n",
    "When the dataset is loaded a Inverted Index is created. The Inverted Index is a dictionary where the keys are the terms and the values are the list of documents where the term appears. \n",
    "\n",
    "If the index is already created, we can load it from the `data` folder:"
   ]
  },
  {
   "cell_type": "code",
   "execution_count": 2,
   "metadata": {},
   "outputs": [
    {
     "name": "stderr",
     "output_type": "stream",
     "text": [
      "Indexing:: 100%|██████████| 422/422 [00:02<00:00, 154.07it/s]\n"
     ]
    }
   ],
   "source": [
    "system = IRSystem(dataset=\"time\", load=False)"
   ]
  },
  {
   "attachments": {},
   "cell_type": "markdown",
   "metadata": {},
   "source": [
    "Now the IR system is ready to be used. Let explore the IRSystem class:"
   ]
  },
  {
   "cell_type": "code",
   "execution_count": 3,
   "metadata": {},
   "outputs": [],
   "source": [
    "corpus = system['corpus'] # get corpus list of list of words\n",
    "index = system['index'] # get index, custum Index class\n",
    "query = system['query'] # get query, list of list of words"
   ]
  },
  {
   "attachments": {},
   "cell_type": "markdown",
   "metadata": {},
   "source": [
    "Let explore the index:"
   ]
  },
  {
   "cell_type": "code",
   "execution_count": 7,
   "metadata": {},
   "outputs": [
    {
     "name": "stdout",
     "output_type": "stream",
     "text": [
      "Posting list: [(46, 3), (53, 3), (263, 2), (3, 1), (47, 1), (131, 1), (173, 1), (214, 1), (270, 1), (271, 1), (274, 1), (278, 1), (279, 1), (293, 1), (294, 1), (321, 1), (327, 1), (366, 1), (381, 1), (404, 1), (417, 1)] \n",
      "idf: 1.3030931562277546 \n",
      "tfidf: 3.9092794686832635\n"
     ]
    }
   ],
   "source": [
    "# Get the posting list of a term\n",
    "posting_list = system[\"index\"][\"america\"]\n",
    "# Get the idf of a term\n",
    "idf = system[\"index\"].idf(\"america\")\n",
    "# Get the tf-idf of a term in a document\n",
    "tf_idf = system[\"index\"].tf_idf(\"america\", 46, len(corpus))\n",
    "\n",
    "print(\"Posting list:\", posting_list, \"\\nidf:\", idf, \"\\ntfidf:\", tf_idf)\n"
   ]
  },
  {
   "attachments": {},
   "cell_type": "markdown",
   "metadata": {},
   "source": [
    "Now the IR system is ready to be used. We can search for a query using the `search` method. The method returns a list of documents sorted by relevance. The relevance is computed using the cosine similarity between the query and the documents."
   ]
  },
  {
   "cell_type": "code",
   "execution_count": 6,
   "metadata": {},
   "outputs": [
    {
     "name": "stdout",
     "output_type": "stream",
     "text": [
      "Query: ['us', 'policy', 'toward', 'the', 'new', 'regime', 'in', 'south', 'viet', 'nam', 'which', 'overthrew', 'president', 'diem']\n",
      "Results: [docid:54 score:1.0, docid:254 score:1.0, docid:283 score:1.0]\n",
      "Documents: ['iraq', 'friends', 'brothers', 'not', 'long', 'ago', 'abdul', 'karim', 'kassem', 'lean', 'and', 'psychotic', 'strongman', 'of', 'iraq', 'boasted', 'that', 'he', 'had', 'survived', 'attempts', 'to', 'kill', 'him', 'over', 'the', 'past', 'f', 'years', 'last', 'week', 'in', 'baghdad', 'death', 'kept', 'the', 'th', 'appointment', 'rebel', 'iraqi', 'army', 'officers', 'overthrew', 'the', 'government', 'and', 'issued', 'a', 'characteristic', 'middle', 'eastern', 'communique', 'with', 'the', 'help', 'of', 'god', 'we', 'have', 'been', 'able', 'to', 'destroy', 'the', 'enemy', 'of', 'god', 'and', 'of', 'the', 'people', 'abdul', 'karim', 'kassem', 'and', 'his', 'gang', 'who', 'have', 'used', 'the', 'country', 'for', 'their', 'own', 'interests', 'and', 'who', 'choked', 'liberty', 'and', 'disrupted', 'the', 'law', 'home', 'headquarters', 'the', 'insurrection', 'began', 'on', 'friday', 'holiest', 'day', 'of', 'the', 'moslem', 'week', 'and', 'in', 'the', 'midst', 'of', 'ramadan', 'the', 'month', 'when', 'good', 'moslems', 'fast', 'every', 'day', 'from', 'sunup', 'to', 'sundown', 'and', 'tempers', 'are', 'everywhere', 'short', 'army', 'trucks', 'and', 'tanks', 'were', 'already', 'rumbling', 'through', 'the', 'streets', 'when', 'at', 'am', 'a', 'strident', 'new', 'voice', 'on', 'radio', 'baghdad', 'began', 'exulting', 'this', 'is', 'the', 'voice', 'of', 'the', 'iraqi', 'revolution', 'accusing', 'kassem', 'the', 'dictator', 'of', 'having', 'murdered', 'citizens', 'weakened', 'the', 'army', 'imprisoned', 'and', 'executed', 'scores', 'of', 'officers', 'the', 'broadcaster', 'claimed', 'that', 'the', 'rebels', 'have', 'destroyed', 'the', 'tyrant', 'but', 'the', 'fight', 'was', 'only', 'beginning', 'rebel', 'units', 'surrounded', 'baghdads', 'huge', 'yellow', 'brick', 'defense', 'ministry', 'the', 'home', 'and', 'headquarters', 'of', 'premier', 'kassem', 'which', 'was', 'defended', 'by', 'trusted', 'soldiers', 'the', 'rebels', 'brought', 'up', 'tanks', 'and', 'heavy', 'artillery', 'and', 'iraqi', 'fighter', 'planes', 'strafed', 'and', 'bombed', 'the', 'kassem', 'fortress', 'loyal', 'disciple', 'the', 'rebel', 'radio', 'voice', 'frenziedly', 'called', 'for', 'the', 'people', 'to', 'pour', 'into', 'the', 'streets', 'to', 'destroy', 'the', 'remnants', 'of', 'the', 'kassem', 'regime', 'between', 'exhortations', 'martial', 'music', 'filled', 'the', 'air', 'especially', 'songs', 'extolling', 'arab', 'unity', 'and', 'alahu', 'akbar', 'god', 'is', 'great', 'a', 'favorite', 'hymn', 'of', 'egypts', 'gamal', 'abdel', 'nasser', 'the', 'sixman', 'rebel', 'junta', 'that', 'plotted', 'kassems', 'overthrow', 'was', 'apparently', 'made', 'up', 'of', 'captains', 'and', 'lieutenants', 'except', 'for', 'its', 'leader', 'exparatroop', 'colonel', 'abdul', 'mustafa', 'but', 'the', 'man', 'they', 'put', 'forward', 'as', 'their', 'front', 'man', 'came', 'as', 'a', 'shock', 'to', 'kassem', 'fighting', 'for', 'his', 'life', 'inside', 'the', 'battered', 'defense', 'ministry', 'the', 'junta', 'named', 'as', 'its', 'new', 'rebel', 'head', 'of', 'state', 'colonel', 'abdul', 'salam', 'aref', 'long', 'kassems', 'closest', 'friend', 'and', 'most', 'loyal', 'disciple', 'and', 'alive', 'only', 'because', 'kassem', 'commuted', 'his', 'death', 'sentence', 'unshared', 'prize', 'to', 'kassem', 'the', 'coup', 'must', 'have', 'seemed', 'only', 'too', 'familiar', 'in', 'the', 'same', 'way', 'back', 'in', 'kassem', 'seized', 'power', 'by', 'ruthlessly', 'slaughtering', 'king', 'feisal', 'ii', 'and', 'his', 'ironfisted', 'prowestern', 'premier', 'nuri', 'assaid', 'who', 'was', 'caught', 'trying', 'to', 'escape', 'the', 'city', 'dressed', 'in', 'womens', 'clothes', 'in', 'those', 'days', 'kassem', 'was', 'a', 'brigadier', 'with', 'the', 'reputation', 'of', 'being', 'the', 'kings', 'most', 'loyal', 'soldier', 'actually', 'he', 'was', 'leader', 'of', 'a', 'group', 'of', 'army', 'conspirators', 'including', 'mercurial', 'colonel', 'abdul', 'salam', 'aref', 'a', 'passionate', 'pronasserite', 'after', 'the', 'young', 'king', 'was', 'slain', 'kassem', 'appointed', 'himself', 'premiernamed', 'aref', 'as', 'his', 'deputy', 'and', 'proclaimed', 'his', 'dedication', 'to', 'improving', 'the', 'living', 'standards', 'of', 'our', 'population', 'and', 'saving', 'them', 'from', 'living', 'in', 'slums', 'two', 'friends', 'brothers', 'even', 'though', 'aref', 'devotedly', 'declared', 'i', 'am', 'kassems', 'son', 'and', 'bachelor', 'kassem', 'fondly', 'called', 'aref', 'my', 'son', 'my', 'pupil', 'my', 'brother', 'the', 'two', 'chiefs', 'were', 'soon', 'quarreling', 'having', 'become', 'master', 'of', 'iraq', 'kassem', 'was', 'in', 'no', 'mood', 'to', 'share', 'the', 'prize', 'with', 'arefs', 'other', 'hero', 'egypts', 'nasser', 'ordered', 'into', 'exile', 'as', 'ambassador', 'to', 'west', 'germany', 'aref', 'pulled', 'a', 'gun', 'in', 'kassems', 'presence', 'but', 'was', 'disarmed', 'and', 'finally', 'condemned', 'to', 'death', 'as', 'a', 'traitor', 'kassem', 'changed', 'the', 'sentence', 'to', 'life', 'imprisonment', 'and', 'in', 'sentimentally', 'and', 'imprudently', 'set', 'aref', 'free', 'insecurely', 'in', 'control', 'and', 'subject', 'to', 'vituperative', 'attacks', 'from', 'nassers', 'radio', 'cairo', 'kassem', 'eagerly', 'accepted', 'the', 'support', 'of', 'iraqs', 'wellorganized', 'communist', 'party', 'wangled', 'million', 'in', 'arms', 'and', 'economic', 'aid', 'from', 'the', 'soviet', 'bloc', 'and', 'voted', 'the', 'communist', 'line', 'in', 'the', 'united', 'nations', 'spartan', 'cot', 'kassems', 'brief', 'regime', 'reads', 'like', 'a', 'case', 'history', 'in', 'dangerous', 'living', 'he', 'savagely', 'put', 'down', 'one', 'abortive', 'revolt', 'narrowly', 'escaped', 'death', 'in', 'an', 'assassination', 'attempt', 'in', 'which', 'his', 'arm', 'and', 'hand', 'were', 'shattered', 'by', 'bullets', 'understandably', 'gunshy', 'he', 'spent', 'most', 'of', 'his', 'time', 'inside', 'the', 'defense', 'ministry', 'building', 'where', 'he', 'slept', 'on', 'a', 'spartan', 'cot', 'and', 'watched', 'suspiciously', 'for', 'trouble', 'there', 'was', 'plenty', 'of', 'that', 'half', 'of', 'iraqs', 'army', 'was', 'tied', 'down', 'by', 'a', 'rebellion', 'of', 'the', 'kurdish', 'tribesmen', 'north', 'and', 'east', 'of', 'mosul', 'kassem', 'began', 'to', 'grow', 'suspicious', 'of', 'iraqs', 'communists', 'after', 'a', 'series', 'of', 'redinspired', 'strikes', 'kassem', 'jailed', 'hundreds', 'of', 'reds', 'and', 'condemned', 'to', 'death', 'communist', 'leaders', 'and', 'always', 'he', 'had', 'to', 'fear', 'disaffection', 'in', 'his', 'own', 'army', 'he', 'was', 'promising', 'even', 'greater', 'army', 'purges', 'when', 'last', 'week', 'the', 'rebels', 'struck', 'after', 'more', 'than', 'ten', 'hours', 'of', 'hard', 'fighting', 'the', 'defense', 'ministry', 'was', 'in', 'ruins', 'and', 'kassems', 'disheartened', 'defenders', 'surrendered', 'kassem', 'was', 'alive', 'but', 'only', 'for', 'a', 'little', 'while', 'the', 'rebel', 'iraqi', 'radio', 'announced', 'that', 'he', 'had', 'been', 'tried', 'on', 'the', 'spot', 'condemned', 'and', 'at', 'minutes', 'past', 'noon', 'the', 'next', 'day', 'stood', 'against', 'a', 'wall', 'and', 'executed', 'at', 'the', 'moment', 'though', 'victories', 'are', 'often', 'perishable', 'in', 'arab', 'politics', 'the', 'revolt', 'seemed', 'an', 'impressive', 'triumph', 'for', 'egypts', 'nasser', 'even', 'if', 'he', 'had', 'no', 'direct', 'hand', 'in', 'it', 'if', 'so', 'there', 'would', 'be', 'trouble', 'for', 'the', 'hardpressed', 'kings', 'of', 'jordan', 'and', 'saudi', 'arabia', 'as', 'well', 'as', 'for', 'the', 'britishprotected', 'sheiks', 'of', 'the', 'persian', 'gulf', 'kassem', 'has', 'gone', 'soon', 'kings', 'saud', 'and', 'hussein', 'will', 'go', 'too', 'said', 'a', 'complacent', 'egyptian', 'in', 'cairo', 'but', 'first', 'nassers', 'supporters', 'were', 'confident', 'that', 'the', 'iraqi', 'coup', 'would', 'set', 'off', 'a', 'succession', 'of', 'uprisings', 'in', 'neighboring', 'syria', 'which', 'has', 'already', 'put', 'down', 'two', 'pronasser', 'revolts', 'since', 'breaking', 'off', 'from', 'egypt', 'in']\n"
     ]
    }
   ],
   "source": [
    "# select a query\n",
    "query = system[\"query\"][3]\n",
    "print(\"Query:\", query)\n",
    "\n",
    "# get the top 10 documents for the query\n",
    "results = system.search(query, k=10)\n",
    "\n",
    "# Explore the results and their scores\n",
    "print(\"Results:\", results)\n",
    "\n",
    "# Get the documents from the results\n",
    "documents = system.get_document_from_list(results)\n",
    "print(\"Documents:\", documents[0])"
   ]
  }
 ],
 "metadata": {
  "kernelspec": {
   "display_name": "ir_viz",
   "language": "python",
   "name": "python3"
  },
  "language_info": {
   "codemirror_mode": {
    "name": "ipython",
    "version": 3
   },
   "file_extension": ".py",
   "mimetype": "text/x-python",
   "name": "python",
   "nbconvert_exporter": "python",
   "pygments_lexer": "ipython3",
   "version": "3.9.13"
  },
  "orig_nbformat": 4,
  "vscode": {
   "interpreter": {
    "hash": "b3cc5f5b05e46bdfc9e9761ae8d2ef1ed155c83b407b3a1475c0d7c166308822"
   }
  }
 },
 "nbformat": 4,
 "nbformat_minor": 2
}
